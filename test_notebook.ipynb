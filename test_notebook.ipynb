{
 "cells": [
  {
   "cell_type": "code",
   "execution_count": 5,
   "metadata": {},
   "outputs": [
    {
     "data": {
      "text/plain": [
       "'49.15.227.206'"
      ]
     },
     "execution_count": 5,
     "metadata": {},
     "output_type": "execute_result"
    }
   ],
   "source": [
    "import requests\n",
    "requests.get(\"https://api.ipify.org\").text"
   ]
  },
  {
   "cell_type": "code",
   "execution_count": 1,
   "metadata": {},
   "outputs": [
    {
     "name": "stdout",
     "output_type": "stream",
     "text": [
      "02:10:13 PM on December 21, 2023\n"
     ]
    }
   ],
   "source": [
    "from datetime import datetime\n",
    "\n",
    "\n",
    "# Formatting the current time to include AM/PM\n",
    "formatted_time = datetime.now().strftime(\"%I:%M:%S %p on %B %d, %Y\")\n",
    "\n",
    "print(formatted_time)"
   ]
  },
  {
   "cell_type": "code",
   "execution_count": 5,
   "metadata": {},
   "outputs": [
    {
     "name": "stdout",
     "output_type": "stream",
     "text": [
      "Today's Date: 2023-12-21 00:00:00\n",
      "Tomorrow's Date: 2023-12-22 00:00:00\n"
     ]
    }
   ],
   "source": [
    "from datetime import datetime, timedelta\n",
    "\n",
    "# Get today's date\n",
    "today=datetime.now()\n",
    "tomorrow = today+ timedelta(days=1)\n",
    "\n",
    "today = datetime(today.year,today.month,today.day)\n",
    "tomorrow = datetime(tomorrow.year,tomorrow.month,tomorrow.day)\n",
    "# Get tomorrow's date\n",
    "\n",
    "print(\"Today's Date:\", today)\n",
    "print(\"Tomorrow's Date:\", tomorrow)\n"
   ]
  },
  {
   "cell_type": "code",
   "execution_count": 4,
   "metadata": {},
   "outputs": [
    {
     "data": {
      "text/plain": [
       "datetime.datetime(2023, 12, 22, 19, 52, 36, 850206)"
      ]
     },
     "execution_count": 4,
     "metadata": {},
     "output_type": "execute_result"
    }
   ],
   "source": [
    "from datetime import datetime, timedelta\n",
    "\n",
    "# Define the datetime object as the current datetime\n",
    "obj = datetime.now()\n",
    "\n",
    "# Add one day to the datetime object\n",
    "new_date = obj + timedelta(days=1)\n",
    "\n",
    "new_date"
   ]
  },
  {
   "cell_type": "code",
   "execution_count": 1,
   "metadata": {},
   "outputs": [
    {
     "name": "stdout",
     "output_type": "stream",
     "text": [
      "https://t.me/testingbana1/4438 https://t.me/testingbana1/4441\n",
      "https://t.me/testingbana2/4439 https://t.me/testingbana2/4441\n"
     ]
    }
   ],
   "source": [
    "import pandas as pd\n",
    "import time\n",
    "import configparser\n",
    "\n",
    "config = configparser.ConfigParser()\n",
    "config.read(\"config.ini\")\n",
    "\n",
    "\n",
    "\n",
    "df = pd.read_csv(\"ProcessedPosts.csv\")\n",
    "df['channelName'] =df['Url'].apply(lambda x: x.split('/')[3] if '/' in x else None)\n",
    "df['PostId'] =df['Url'].apply(lambda x: int(x.split('/')[4]) if '/' in x else None)\n",
    "for channel in df['channelName'].unique():\n",
    "    subdf = df[df['channelName']==channel].sort_values(by=['channelName','PostId'])\n",
    "    firstRow = subdf.iloc[0].Url\n",
    "    lastRow = subdf.iloc[-1].Url\n",
    "    config[\"RealViewsSimulationIndex\"][\"index\"]=str(subdf.shape[0])\n",
    "    config[\"RealViewsSimulationIndex\"][\"latestpostlink\"]=lastRow\n",
    "\n",
    "    with open('config.ini', 'w') as configfile:\n",
    "        config.write(configfile)\n",
    "    print(firstRow,lastRow)\n",
    "    time.sleep(5)"
   ]
  },
  {
   "cell_type": "code",
   "execution_count": 40,
   "metadata": {},
   "outputs": [
    {
     "name": "stdout",
     "output_type": "stream",
     "text": [
      "https://t.me/testingbana1/4438 https://t.me/testingbana1/4441\n",
      "https://t.me/testingbana2/4439 https://t.me/testingbana2/4441\n"
     ]
    }
   ],
   "source": [
    "for channel in df['channelName'].unique():\n",
    "    subdf = df[df['channelName']==channel].sort_values(by=['channelName','PostId'])\n",
    "    firstRow = subdf.iloc[0].Url\n",
    "    lastRow = subdf.iloc[-1].Url\n",
    "    print(firstRow,lastRow)"
   ]
  }
 ],
 "metadata": {
  "kernelspec": {
   "display_name": "Python 3",
   "language": "python",
   "name": "python3"
  },
  "language_info": {
   "codemirror_mode": {
    "name": "ipython",
    "version": 3
   },
   "file_extension": ".py",
   "mimetype": "text/x-python",
   "name": "python",
   "nbconvert_exporter": "python",
   "pygments_lexer": "ipython3",
   "version": "3.10.0"
  }
 },
 "nbformat": 4,
 "nbformat_minor": 2
}
